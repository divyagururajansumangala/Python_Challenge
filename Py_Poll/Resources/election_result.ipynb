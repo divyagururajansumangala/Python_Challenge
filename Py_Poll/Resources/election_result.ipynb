{
 "cells": [
  {
   "cell_type": "code",
   "execution_count": 69,
   "metadata": {},
   "outputs": [
    {
     "name": "stdout",
     "output_type": "stream",
     "text": [
      "Election Results\n",
      "---------------------\n",
      " Total no of votes : 254999\n",
      "---------------------\n",
      "Khan: 63.079%,(160850)\n",
      "Correy: 19.92%,(50796)\n",
      "Li: 13.974%,(35633)\n",
      "O'Tooley: 3.027%,(7720)\n",
      "---------------------\n",
      " Winner: Khan\n",
      "---------------------\n",
      "\n"
     ]
    }
   ],
   "source": [
    "import csv\n",
    "with open('election_data_1.csv') as election_file:\n",
    "    \n",
    "    csv_reader = csv.reader(election_file,delimiter=',')\n",
    "    csv_header = next(csv_reader)\n",
    "   \n",
    "    csv_reader_1 =list(csv_reader)\n",
    "    \n",
    "    total_lines = len(list(csv_reader_1))\n",
    "    \n",
    "    candidate_list =[]\n",
    "    poll_num ={}\n",
    "    \n",
    "    for data in csv_reader_1:\n",
    "        candidate_list.append(data[2])\n",
    "    for data in candidate_list:\n",
    "        if data in poll_num:\n",
    "            poll_num[data] =poll_num[data] +1  \n",
    "        else: poll_num [data] =1\n",
    "    \n",
    "    \n",
    "    winner = max(poll_num,key=poll_num.get)\n",
    "    a =(f\"Election Results\\n\"\n",
    "     \"---------------------\\n\"\n",
    "     f\" Total no of votes : {total_lines}\\n\"\n",
    "     \"---------------------\\n\")\n",
    "    for key,value in poll_num.items():\n",
    "        percent = round(value/total_lines*100, 3)\n",
    "        a+= (f\"{key}: {percent}%,({value})\\n\")\n",
    "    a+=(\"---------------------\\n\"\n",
    "        f\" Winner: {winner}\\n\"\n",
    "        \"---------------------\\n\")\n",
    "    \n",
    "    print(a)\n",
    "   "
   ]
  },
  {
   "cell_type": "code",
   "execution_count": 70,
   "metadata": {},
   "outputs": [],
   "source": [
    "output_file = \"PyPoll.txt\"\n",
    "\n",
    "with open (output_file, \"w\") as csv_file:\n",
    "    csv_file.writelines(a)"
   ]
  },
  {
   "cell_type": "code",
   "execution_count": null,
   "metadata": {},
   "outputs": [],
   "source": []
  }
 ],
 "metadata": {
  "kernelspec": {
   "display_name": "Python 3",
   "language": "python",
   "name": "python3"
  },
  "language_info": {
   "codemirror_mode": {
    "name": "ipython",
    "version": 3
   },
   "file_extension": ".py",
   "mimetype": "text/x-python",
   "name": "python",
   "nbconvert_exporter": "python",
   "pygments_lexer": "ipython3",
   "version": "3.7.9"
  }
 },
 "nbformat": 4,
 "nbformat_minor": 4
}
